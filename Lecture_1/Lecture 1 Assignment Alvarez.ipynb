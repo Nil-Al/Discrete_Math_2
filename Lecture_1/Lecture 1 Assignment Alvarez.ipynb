{
 "cells": [
  {
   "cell_type": "markdown",
   "id": "f9eefca4-3583-4b31-aa35-12bc7ba20e67",
   "metadata": {},
   "source": [
    "$\\textbf{Nil Benedict D. Alvarez}$\n",
    "\n",
    "1. Recall the definition of a rational number, denoted as $\\mathbb{Q}$. Prove that the Euler's number $e = \\Sigma_{k=0}^\\infty \\frac{1}{k!} \\notin \\mathbb{Q}$. A factorial is defined as $k! = (k)(k-1)(k-2)(k-3)..., \\forall k \\in \\mathbb{Z}^+$, note that $0! = 1$. Furthermore, a sum notation $\\Sigma_{k=0}^\\infty k = 0+ 1 + 2 + 3 +....+...$Sigma_{i=1}^n \\frac{(u_i)^2}{v_i}\n",
    "\\end{gather}"
   ]
  },
  {
   "cell_type": "markdown",
   "id": "be226444-0efb-493d-949f-58bcbe80db11",
   "metadata": {},
   "source": [
    "$\\textbf{Proof By Contradiction:}$<br>\n",
    "\n",
    "Let's assume there exist integers $p\\in \\mathbb{Z}$ and $q \\in \\mathbb{N}$ such that $e = \\frac{p}{q}$ <br><br>\n",
    "\n",
    "We express $e$ in its series form: <br>\n",
    "\n",
    "$\\frac{p}{q} = \\frac{1}{0!} + \\frac{1}{1!} + \\frac{1}{2!} + . . . + \\frac{1}{q!} $ <br><br>\n",
    "\n",
    "Then, we subtract the finite sum from both sides: <br>\n",
    "$\\frac{p}{q} - \\frac{1}{0!} - . . . - \\frac{1}{q!} = \\frac{1}{(q + 1)!} + . . .  $ <br><br>\n",
    "\n",
    "This allows us to manipulate the terms: <br>\n",
    "$\\frac{p\\cdot q!}{q} - \\frac{q!}{0!} - . . . - \\frac{q!}{q!} = \\frac{q!}{(q + 1)!} + \\frac{q!}{(q + 2)!} + ... $ <br><br>\n",
    "$\\frac{p\\cdot q!}{q} - \\frac{q!}{0!} - . . . - \\frac{q!}{q!} = \\frac{q!}{(q + 1)q!} + \\frac{q!}{(q + 2)(q + 1)q!} + ...$ <br><br>\n",
    "$\\frac{p\\cdot q!}{q} - \\frac{q!}{0!} - . . . - \\frac{q!}{q!} = \\frac{1}{q + 1} + \\frac{1}{(q + 2)(q + 1)} + ... $ <br><br>\n",
    "$\\textbf{However, this leads to a contradiction. Hence, $e$ is irrational.}$\n"
   ]
  },
  {
   "cell_type": "markdown",
   "id": "ffd6dc71-875c-4dd9-8321-67b0d1d26db7",
   "metadata": {},
   "source": [
    "2. Prove Minkowski's Inequality for sums, $\\forall \\ p>1, (a_k, b_k)>0$:\n",
    "\\begin{gather}\n",
    "\\begin{bmatrix}\n",
    "\\Sigma_{k=1}^n |a_k + b_k|^p\n",
    "\\end{bmatrix}^\\frac{1}{p}\n",
    "\\leq\n",
    "\\begin{bmatrix}\n",
    "\\Sigma_{k=1}^n |a_k|^p\n",
    "\\end{bmatrix}^\\frac{1}{p}\n",
    "+\n",
    "\\begin{bmatrix}\n",
    "\\Sigma_{k=1}^n |b_k|^p\n",
    "\\end{bmatrix}^\\frac{1}{p}\n",
    "\\end{gather}\n",
    "\n"
   ]
  },
  {
   "cell_type": "markdown",
   "id": "3c99ea4e-49f9-41f8-96a3-954df7773c85",
   "metadata": {},
   "source": [
    "To prove Minkowski's Inequality for sums by contradiction, let's assume the opposite, that is, there exist positive real numbers $a_k$ and $b_k$ for $k = 1, 2, ..., n$, and a $p > 1$ such that:\n",
    "$$\\left( \\sum_{k=1}^n |a_k + b_k|^p \\right)^{\\frac{1}{p}} > \\left( \\sum_{k=1}^n |a_k|^p \\right)^{\\frac{1}{p}} + \\left( \\sum_{k=1}^n |b_k|^p \\right)^{\\frac{1}{p}}$$\n",
    "Without loss of generality, we can assume that both sides of the inequality are finite.\n",
    "Now, let's define:\n",
    "$$A = \\left( \\sum_{k=1}^n |a_k|^p \\right)^{\\frac{1}{p}},$$\n",
    "$$B = \\left( \\sum_{k=1}^n |b_k|^p \\right)^{\\frac{1}{p}},$$\n",
    "$$C = \\left( \\sum_{k=1}^n |a_k + b_k|^p \\right)^{\\frac{1}{p}}.$$\n",
    "With these definitions, our assumption can be rewritten as:\n",
    "$$C > A + B.$$\n",
    "Now, we'll use the triangle inequality for $|a_k + b_k|$:\n",
    "$$|a_k + b_k| \\leq |a_k| + |b_k|,$$\n",
    "raised to the power of $p$, this becomes:\n",
    "$$|a_k + b_k|^p \\leq (|a_k| + |b_k|)^p.$$\n",
    "Summing over all $k$, we have:\n",
    "$$\\sum_{k=1}^n |a_k + b_k|^p \\leq \\sum_{k=1}^n (|a_k| + |b_k|)^p.$$\n",
    "By the convexity of the function $x^p$ for $x > 0$ and $p > 1$, Jensen's inequality states that:\n",
    "$$\\left( \\frac{\\sum_{k=1}^n (|a_k| + |b_k|)^p}{n} \\right)^{\\frac{1}{p}} \\leq \\frac{\\sum_{k=1}^n |a_k| + |b_k|}{n}.$$\n",
    "$$\\left( \\sum_{k=1}^n (|a_k| + |b_k|)^p \\right)^{\\frac{1}{p}} \\leq \\left( \\sum_{k=1}^n |a_k| + |b_k| \\right)^{\\frac{1}{p}}.$$\n",
    "$$\\left( \\sum_{k=1}^n |a_k + b_k|^p \\right)^{\\frac{1}{p}} \\leq \\left( \\sum_{k=1}^n |a_k| + |b_k| \\right)^{\\frac{1}{p}}.$$\n",
    "$$C \\leq A + B.$$\n",
    "This contradicts our assumption that $C > A + B$. Therefore, our assumption must be false, and Minkowski's inequality for sums holds true.\r\n"
   ]
  },
  {
   "cell_type": "markdown",
   "id": "75806cc6-8403-43d8-957c-55d523a18af9",
   "metadata": {},
   "source": [
    "\n",
    "3. Prove the triangle inequality $|x+y| \\leq |x| + |y|, \\forall (x,y) \\in \\mathbb{R}$"
   ]
  },
  {
   "cell_type": "markdown",
   "id": "cc532052-54c7-487f-8226-4dd5b76fd985",
   "metadata": {},
   "source": [
    "Consider the following Cases: <br> <br>\n",
    "Case 1: $x \\geq 0$ and $y \\geq 0$\n",
    "In this case, we have:\n",
    "$$|x+y| = x+y$$\n",
    "$$|x| = x$$\n",
    "$$|y| = y$$\n",
    "Therefore, $|x+y| = x+y \\leq x+y = |x|+|y|$. <br> <br>\n",
    "Case 2: $x \\geq 0$ and $y < 0$\n",
    "In this case, we have:\n",
    "$$|x+y| = x-y$$\n",
    "$$|x| = x$$\n",
    "$$|y| = -y$$\n",
    "Now, $x-y \\leq x+(-y)$ because adding a negative number is the same as subtracting its absolute value.\n",
    "Therefore, $|x+y| = x-y \\leq x+(-y) = |x|+|y|$. <br> <br>\n",
    "Case 3: $x < 0$ and $y \\geq 0$\n",
    "This case is similar to Case 2, and we can show that $|x+y| \\leq |x|+|y|$ using a similar approach. <br> <br>\n",
    "Case 4: $x < 0$ and $y < 0$\n",
    "In this case, we have:\n",
    "$$|x+y| = -(x+y)$$\n",
    "$$|x| = -x$$\n",
    "$$|y| = -y$$\n",
    "Now, $-(x+y) \\leq (-x)+(-y)$ because the absolute value of a sum is less than or equal to the sum of the absolute values.\n",
    "Therefore, $|x+y| = -(x+y) \\leq (-x)+(-y) = |x|+|y|$.\n",
    "Since we have covered all possible cases, we can conclude that the triangle inequality $|x+y| \\leq |x| + |y|$ holds for all $(x,y) \\in \\mathbb{R} $."
   ]
  },
  {
   "cell_type": "markdown",
   "id": "65929789-a065-45f1-98df-aa445fd482af",
   "metadata": {},
   "source": [
    "4. Prove Sedrakayan's Lemma $\\forall u_i, v_i \\in \\mathbb{R}^+$:\n",
    "\\begin{gather}\n",
    "\\frac{(\\Sigma_{i=1}^n u_i)^2}{\\Sigma_{i=1}^n v_i}\n",
    "\\leq\n",
    "\\Sigma_{i=1}^n \\frac{(u_i)^2}{v_i}\n",
    "\\end{gather}"
   ]
  },
  {
   "cell_type": "markdown",
   "id": "53fd5d0c-50eb-4ea5-93e8-962f781a59e7",
   "metadata": {},
   "source": [
    "To prove Sedrakyan's Lemma, we start with the Cauchy-Schwarz Inequality, which states that for any sequences of real numbers $a_i$ and $b_i$:\n",
    "$$\\left( \\sum_{i=1}^n a_ib_i \\right)^2 \\leq \\left( \\sum_{i=1}^n a_i^2 \\right) \\left( \\sum_{i=1}^n b_i^2 \\right)$$\n",
    "Now, let $a_i = \\sqrt{v_i}$ and $b_i = \\frac{u_i}{\\sqrt{v_i}}$. This choice is meaningful since it aligns with the form we want to prove, allowing us to utilize the Cauchy-Schwarz Inequality.\n",
    "Using this choice of $a_i$ and $b_i$, we have:\n",
    "$$\n",
    "\\begin{align*}\n",
    "\\left( \\sum_{i=1}^n \\sqrt{v_i} \\cdot \\frac{u_i}{\\sqrt{v_i}} \\right)^2 & \\leq \\left( \\sum_{i=1}^n (\\sqrt{v_i})^2 \\right) \\left( \\sum_{i=1}^n \\left( \\frac{u_i}{\\sqrt{v_i}} \\right)^2 \\right) \\\n",
    "\\left( \\sum_{i=1}^n u_i \\right)^2 & \\leq \\left( \\sum_{i=1}^n v_i \\right) \\left( \\sum_{i=1}^n \\frac{u_i^2}{v_i} \\right)\n",
    "\\end{align*}\n",
    "$$\n",
    "Dividing both sides by $\\sum_{i=1}^n v_i$ gives us:\n",
    "$$\\frac{\\left( \\sum_{i=1}^n u_i \\right)^2}{\\sum_{i=1}^n v_i} \\leq \\sum_{i=1}^n \\frac{u_i^2}{v_i}$$\n",
    "$\\textbf{Thus, Sedrakyan's Lemma is proved.}$"
   ]
  },
  {
   "cell_type": "code",
   "execution_count": null,
   "id": "17b8eaa7-6b33-494f-a17c-85c2c769603a",
   "metadata": {},
   "outputs": [],
   "source": []
  }
 ],
 "metadata": {
  "kernelspec": {
   "display_name": "Python 3 (ipykernel)",
   "language": "python",
   "name": "python3"
  },
  "language_info": {
   "codemirror_mode": {
    "name": "ipython",
    "version": 3
   },
   "file_extension": ".py",
   "mimetype": "text/x-python",
   "name": "python",
   "nbconvert_exporter": "python",
   "pygments_lexer": "ipython3",
   "version": "3.11.5"
  }
 },
 "nbformat": 4,
 "nbformat_minor": 5
}
